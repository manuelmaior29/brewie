{
 "cells": [
  {
   "cell_type": "markdown",
   "metadata": {},
   "source": [
    "### Exploratory data analysis"
   ]
  },
  {
   "cell_type": "code",
   "execution_count": 16,
   "metadata": {},
   "outputs": [],
   "source": [
    "import pandas as pd\n",
    "import matplotlib.pyplot as plt"
   ]
  },
  {
   "cell_type": "code",
   "execution_count": 17,
   "metadata": {},
   "outputs": [
    {
     "data": {
      "text/html": [
       "<div>\n",
       "<style scoped>\n",
       "    .dataframe tbody tr th:only-of-type {\n",
       "        vertical-align: middle;\n",
       "    }\n",
       "\n",
       "    .dataframe tbody tr th {\n",
       "        vertical-align: top;\n",
       "    }\n",
       "\n",
       "    .dataframe thead th {\n",
       "        text-align: right;\n",
       "    }\n",
       "</style>\n",
       "<table border=\"1\" class=\"dataframe\">\n",
       "  <thead>\n",
       "    <tr style=\"text-align: right;\">\n",
       "      <th></th>\n",
       "      <th>grind_size_setting</th>\n",
       "      <th>grind_size_setting_burr</th>\n",
       "      <th>extraction_time</th>\n",
       "      <th>extraction_quantity</th>\n",
       "      <th>coffee_quantity</th>\n",
       "      <th>distribution_by_side_tap</th>\n",
       "      <th>distribution_by_settling</th>\n",
       "      <th>distribution_by_nsew</th>\n",
       "      <th>distribution_by_stockfleth</th>\n",
       "      <th>distribution_by_WDT</th>\n",
       "      <th>distribution_by_spinning_distribution_tool</th>\n",
       "      <th>coffee_origin</th>\n",
       "      <th>coffee_time_since_roast</th>\n",
       "      <th>coffee_processing_type</th>\n",
       "      <th>coffee_qgrade</th>\n",
       "      <th>water_filter_age</th>\n",
       "      <th>desired_coffee_based_drink</th>\n",
       "      <th>coffee_based_drink_taste_rating</th>\n",
       "      <th>filter_type</th>\n",
       "      <th>coffee_altitude</th>\n",
       "    </tr>\n",
       "  </thead>\n",
       "  <tbody>\n",
       "    <tr>\n",
       "      <th>0</th>\n",
       "      <td>8</td>\n",
       "      <td>NaN</td>\n",
       "      <td>22.00</td>\n",
       "      <td>35.7</td>\n",
       "      <td>18.0</td>\n",
       "      <td>False</td>\n",
       "      <td>True</td>\n",
       "      <td>False</td>\n",
       "      <td>False</td>\n",
       "      <td>True</td>\n",
       "      <td>True</td>\n",
       "      <td>Cerrado Miniero</td>\n",
       "      <td>NaN</td>\n",
       "      <td>natural</td>\n",
       "      <td>86.0</td>\n",
       "      <td>3</td>\n",
       "      <td>cappuccino</td>\n",
       "      <td>9</td>\n",
       "      <td>double unpressured</td>\n",
       "      <td>1145.0</td>\n",
       "    </tr>\n",
       "    <tr>\n",
       "      <th>1</th>\n",
       "      <td>8</td>\n",
       "      <td>NaN</td>\n",
       "      <td>29.00</td>\n",
       "      <td>35.5</td>\n",
       "      <td>18.1</td>\n",
       "      <td>False</td>\n",
       "      <td>True</td>\n",
       "      <td>False</td>\n",
       "      <td>False</td>\n",
       "      <td>True</td>\n",
       "      <td>True</td>\n",
       "      <td>Cerrado Miniero</td>\n",
       "      <td>NaN</td>\n",
       "      <td>natural</td>\n",
       "      <td>86.0</td>\n",
       "      <td>3</td>\n",
       "      <td>cappuccino</td>\n",
       "      <td>8</td>\n",
       "      <td>double unpressured</td>\n",
       "      <td>1145.0</td>\n",
       "    </tr>\n",
       "    <tr>\n",
       "      <th>2</th>\n",
       "      <td>8</td>\n",
       "      <td>NaN</td>\n",
       "      <td>29.00</td>\n",
       "      <td>35.5</td>\n",
       "      <td>18.1</td>\n",
       "      <td>False</td>\n",
       "      <td>True</td>\n",
       "      <td>False</td>\n",
       "      <td>False</td>\n",
       "      <td>True</td>\n",
       "      <td>True</td>\n",
       "      <td>Cerrado Miniero</td>\n",
       "      <td>NaN</td>\n",
       "      <td>natural</td>\n",
       "      <td>86.0</td>\n",
       "      <td>3</td>\n",
       "      <td>cappuccino</td>\n",
       "      <td>8</td>\n",
       "      <td>double unpressured</td>\n",
       "      <td>1145.0</td>\n",
       "    </tr>\n",
       "    <tr>\n",
       "      <th>3</th>\n",
       "      <td>8</td>\n",
       "      <td>NaN</td>\n",
       "      <td>17.00</td>\n",
       "      <td>36.9</td>\n",
       "      <td>18.1</td>\n",
       "      <td>False</td>\n",
       "      <td>True</td>\n",
       "      <td>False</td>\n",
       "      <td>False</td>\n",
       "      <td>True</td>\n",
       "      <td>True</td>\n",
       "      <td>Mount Kenya</td>\n",
       "      <td>NaN</td>\n",
       "      <td>washed</td>\n",
       "      <td>NaN</td>\n",
       "      <td>4</td>\n",
       "      <td>cappuccino</td>\n",
       "      <td>6</td>\n",
       "      <td>double unpressured</td>\n",
       "      <td>1825.0</td>\n",
       "    </tr>\n",
       "    <tr>\n",
       "      <th>4</th>\n",
       "      <td>7</td>\n",
       "      <td>NaN</td>\n",
       "      <td>16.36</td>\n",
       "      <td>39.9</td>\n",
       "      <td>18.4</td>\n",
       "      <td>False</td>\n",
       "      <td>True</td>\n",
       "      <td>False</td>\n",
       "      <td>False</td>\n",
       "      <td>True</td>\n",
       "      <td>True</td>\n",
       "      <td>Mount Kenya</td>\n",
       "      <td>NaN</td>\n",
       "      <td>washed</td>\n",
       "      <td>NaN</td>\n",
       "      <td>4</td>\n",
       "      <td>cappuccino</td>\n",
       "      <td>7</td>\n",
       "      <td>double unpressured</td>\n",
       "      <td>1825.0</td>\n",
       "    </tr>\n",
       "  </tbody>\n",
       "</table>\n",
       "</div>"
      ],
      "text/plain": [
       "   grind_size_setting  grind_size_setting_burr  extraction_time  \\\n",
       "0                   8                      NaN            22.00   \n",
       "1                   8                      NaN            29.00   \n",
       "2                   8                      NaN            29.00   \n",
       "3                   8                      NaN            17.00   \n",
       "4                   7                      NaN            16.36   \n",
       "\n",
       "   extraction_quantity  coffee_quantity  distribution_by_side_tap  \\\n",
       "0                 35.7             18.0                     False   \n",
       "1                 35.5             18.1                     False   \n",
       "2                 35.5             18.1                     False   \n",
       "3                 36.9             18.1                     False   \n",
       "4                 39.9             18.4                     False   \n",
       "\n",
       "   distribution_by_settling  distribution_by_nsew  distribution_by_stockfleth  \\\n",
       "0                      True                 False                       False   \n",
       "1                      True                 False                       False   \n",
       "2                      True                 False                       False   \n",
       "3                      True                 False                       False   \n",
       "4                      True                 False                       False   \n",
       "\n",
       "   distribution_by_WDT  distribution_by_spinning_distribution_tool  \\\n",
       "0                 True                                        True   \n",
       "1                 True                                        True   \n",
       "2                 True                                        True   \n",
       "3                 True                                        True   \n",
       "4                 True                                        True   \n",
       "\n",
       "     coffee_origin  coffee_time_since_roast coffee_processing_type  \\\n",
       "0  Cerrado Miniero                      NaN                natural   \n",
       "1  Cerrado Miniero                      NaN                natural   \n",
       "2  Cerrado Miniero                      NaN                natural   \n",
       "3      Mount Kenya                      NaN                 washed   \n",
       "4      Mount Kenya                      NaN                 washed   \n",
       "\n",
       "   coffee_qgrade  water_filter_age desired_coffee_based_drink  \\\n",
       "0           86.0                 3                 cappuccino   \n",
       "1           86.0                 3                 cappuccino   \n",
       "2           86.0                 3                 cappuccino   \n",
       "3            NaN                 4                 cappuccino   \n",
       "4            NaN                 4                 cappuccino   \n",
       "\n",
       "   coffee_based_drink_taste_rating         filter_type  coffee_altitude  \n",
       "0                                9  double unpressured           1145.0  \n",
       "1                                8  double unpressured           1145.0  \n",
       "2                                8  double unpressured           1145.0  \n",
       "3                                6  double unpressured           1825.0  \n",
       "4                                7  double unpressured           1825.0  "
      ]
     },
     "execution_count": 17,
     "metadata": {},
     "output_type": "execute_result"
    }
   ],
   "source": [
    "df = pd.read_csv('../data/coffee-extraction-settings.csv')\n",
    "df.head()"
   ]
  },
  {
   "cell_type": "code",
   "execution_count": 18,
   "metadata": {},
   "outputs": [
    {
     "data": {
      "text/html": [
       "<div>\n",
       "<style scoped>\n",
       "    .dataframe tbody tr th:only-of-type {\n",
       "        vertical-align: middle;\n",
       "    }\n",
       "\n",
       "    .dataframe tbody tr th {\n",
       "        vertical-align: top;\n",
       "    }\n",
       "\n",
       "    .dataframe thead th {\n",
       "        text-align: right;\n",
       "    }\n",
       "</style>\n",
       "<table border=\"1\" class=\"dataframe\">\n",
       "  <thead>\n",
       "    <tr style=\"text-align: right;\">\n",
       "      <th></th>\n",
       "      <th>grind_size_setting</th>\n",
       "      <th>extraction_time</th>\n",
       "      <th>extraction_quantity</th>\n",
       "      <th>coffee_quantity</th>\n",
       "      <th>distribution_by_side_tap</th>\n",
       "      <th>distribution_by_settling</th>\n",
       "      <th>distribution_by_nsew</th>\n",
       "      <th>distribution_by_stockfleth</th>\n",
       "      <th>distribution_by_WDT</th>\n",
       "      <th>distribution_by_spinning_distribution_tool</th>\n",
       "      <th>coffee_origin</th>\n",
       "      <th>water_filter_age</th>\n",
       "      <th>desired_coffee_based_drink</th>\n",
       "      <th>coffee_based_drink_taste_rating</th>\n",
       "      <th>filter_type</th>\n",
       "    </tr>\n",
       "  </thead>\n",
       "  <tbody>\n",
       "    <tr>\n",
       "      <th>0</th>\n",
       "      <td>8</td>\n",
       "      <td>22.00</td>\n",
       "      <td>35.7</td>\n",
       "      <td>18.0</td>\n",
       "      <td>False</td>\n",
       "      <td>True</td>\n",
       "      <td>False</td>\n",
       "      <td>False</td>\n",
       "      <td>True</td>\n",
       "      <td>True</td>\n",
       "      <td>Cerrado Miniero</td>\n",
       "      <td>3</td>\n",
       "      <td>cappuccino</td>\n",
       "      <td>9</td>\n",
       "      <td>double unpressured</td>\n",
       "    </tr>\n",
       "    <tr>\n",
       "      <th>1</th>\n",
       "      <td>8</td>\n",
       "      <td>29.00</td>\n",
       "      <td>35.5</td>\n",
       "      <td>18.1</td>\n",
       "      <td>False</td>\n",
       "      <td>True</td>\n",
       "      <td>False</td>\n",
       "      <td>False</td>\n",
       "      <td>True</td>\n",
       "      <td>True</td>\n",
       "      <td>Cerrado Miniero</td>\n",
       "      <td>3</td>\n",
       "      <td>cappuccino</td>\n",
       "      <td>8</td>\n",
       "      <td>double unpressured</td>\n",
       "    </tr>\n",
       "    <tr>\n",
       "      <th>2</th>\n",
       "      <td>8</td>\n",
       "      <td>29.00</td>\n",
       "      <td>35.5</td>\n",
       "      <td>18.1</td>\n",
       "      <td>False</td>\n",
       "      <td>True</td>\n",
       "      <td>False</td>\n",
       "      <td>False</td>\n",
       "      <td>True</td>\n",
       "      <td>True</td>\n",
       "      <td>Cerrado Miniero</td>\n",
       "      <td>3</td>\n",
       "      <td>cappuccino</td>\n",
       "      <td>8</td>\n",
       "      <td>double unpressured</td>\n",
       "    </tr>\n",
       "    <tr>\n",
       "      <th>3</th>\n",
       "      <td>8</td>\n",
       "      <td>17.00</td>\n",
       "      <td>36.9</td>\n",
       "      <td>18.1</td>\n",
       "      <td>False</td>\n",
       "      <td>True</td>\n",
       "      <td>False</td>\n",
       "      <td>False</td>\n",
       "      <td>True</td>\n",
       "      <td>True</td>\n",
       "      <td>Mount Kenya</td>\n",
       "      <td>4</td>\n",
       "      <td>cappuccino</td>\n",
       "      <td>6</td>\n",
       "      <td>double unpressured</td>\n",
       "    </tr>\n",
       "    <tr>\n",
       "      <th>4</th>\n",
       "      <td>7</td>\n",
       "      <td>16.36</td>\n",
       "      <td>39.9</td>\n",
       "      <td>18.4</td>\n",
       "      <td>False</td>\n",
       "      <td>True</td>\n",
       "      <td>False</td>\n",
       "      <td>False</td>\n",
       "      <td>True</td>\n",
       "      <td>True</td>\n",
       "      <td>Mount Kenya</td>\n",
       "      <td>4</td>\n",
       "      <td>cappuccino</td>\n",
       "      <td>7</td>\n",
       "      <td>double unpressured</td>\n",
       "    </tr>\n",
       "  </tbody>\n",
       "</table>\n",
       "</div>"
      ],
      "text/plain": [
       "   grind_size_setting  extraction_time  extraction_quantity  coffee_quantity  \\\n",
       "0                   8            22.00                 35.7             18.0   \n",
       "1                   8            29.00                 35.5             18.1   \n",
       "2                   8            29.00                 35.5             18.1   \n",
       "3                   8            17.00                 36.9             18.1   \n",
       "4                   7            16.36                 39.9             18.4   \n",
       "\n",
       "   distribution_by_side_tap  distribution_by_settling  distribution_by_nsew  \\\n",
       "0                     False                      True                 False   \n",
       "1                     False                      True                 False   \n",
       "2                     False                      True                 False   \n",
       "3                     False                      True                 False   \n",
       "4                     False                      True                 False   \n",
       "\n",
       "   distribution_by_stockfleth  distribution_by_WDT  \\\n",
       "0                       False                 True   \n",
       "1                       False                 True   \n",
       "2                       False                 True   \n",
       "3                       False                 True   \n",
       "4                       False                 True   \n",
       "\n",
       "   distribution_by_spinning_distribution_tool    coffee_origin  \\\n",
       "0                                        True  Cerrado Miniero   \n",
       "1                                        True  Cerrado Miniero   \n",
       "2                                        True  Cerrado Miniero   \n",
       "3                                        True      Mount Kenya   \n",
       "4                                        True      Mount Kenya   \n",
       "\n",
       "   water_filter_age desired_coffee_based_drink  \\\n",
       "0                 3                 cappuccino   \n",
       "1                 3                 cappuccino   \n",
       "2                 3                 cappuccino   \n",
       "3                 4                 cappuccino   \n",
       "4                 4                 cappuccino   \n",
       "\n",
       "   coffee_based_drink_taste_rating         filter_type  \n",
       "0                                9  double unpressured  \n",
       "1                                8  double unpressured  \n",
       "2                                8  double unpressured  \n",
       "3                                6  double unpressured  \n",
       "4                                7  double unpressured  "
      ]
     },
     "execution_count": 18,
     "metadata": {},
     "output_type": "execute_result"
    }
   ],
   "source": [
    "df = df.dropna(axis=1)\n",
    "df.head()"
   ]
  },
  {
   "cell_type": "markdown",
   "metadata": {},
   "source": [
    "#### Feature selection"
   ]
  },
  {
   "cell_type": "code",
   "execution_count": 19,
   "metadata": {},
   "outputs": [
    {
     "data": {
      "text/plain": [
       "<AxesSubplot:xlabel='extraction_time', ylabel='coffee_based_drink_taste_rating'>"
      ]
     },
     "execution_count": 19,
     "metadata": {},
     "output_type": "execute_result"
    },
    {
     "data": {
      "image/png": "[encoded data removed]",
      "text/plain": [
       "<Figure size 432x288 with 1 Axes>"
      ]
     },
     "metadata": {
      "needs_background": "light"
     },
     "output_type": "display_data"
    }
   ],
   "source": [
    "df.plot.scatter(x='extraction_time', y='coffee_based_drink_taste_rating')"
   ]
  },
  {
   "cell_type": "code",
   "execution_count": 20,
   "metadata": {},
   "outputs": [
    {
     "data": {
      "text/plain": [
       "<AxesSubplot:xlabel='extraction_quantity', ylabel='coffee_based_drink_taste_rating'>"
      ]
     },
     "execution_count": 20,
     "metadata": {},
     "output_type": "execute_result"
    },
    {
     "data": {
      "image/png": "[encoded data removed]",
      "text/plain": [
       "<Figure size 432x288 with 1 Axes>"
      ]
     },
     "metadata": {
      "needs_background": "light"
     },
     "output_type": "display_data"
    }
   ],
   "source": [
    "df.plot.scatter(x='extraction_quantity', y='coffee_based_drink_taste_rating')"
   ]
  },
  {
   "cell_type": "code",
   "execution_count": 21,
   "metadata": {},
   "outputs": [
    {
     "data": {
      "text/plain": [
       "<AxesSubplot:xlabel='extraction_quantity', ylabel='extraction_time'>"
      ]
     },
     "execution_count": 21,
     "metadata": {},
     "output_type": "execute_result"
    },
    {
     "data": {
      "image/png": "[encoded data removed]",
      "text/plain": [
       "<Figure size 432x288 with 1 Axes>"
      ]
     },
     "metadata": {
      "needs_background": "light"
     },
     "output_type": "display_data"
    }
   ],
   "source": [
    "df.plot.scatter(x='extraction_quantity', y='extraction_time')"
   ]
  }
 ],
 "metadata": {
  "kernelspec": {
   "display_name": "venv_brewie",
   "language": "python",
   "name": "python3"
  },
  "language_info": {
   "codemirror_mode": {
    "name": "ipython",
    "version": 3
   },
   "file_extension": ".py",
   "mimetype": "text/x-python",
   "name": "python",
   "nbconvert_exporter": "python",
   "pygments_lexer": "ipython3",
   "version": "3.8.12"
  }
 },
 "nbformat": 4,
 "nbformat_minor": 2
}
